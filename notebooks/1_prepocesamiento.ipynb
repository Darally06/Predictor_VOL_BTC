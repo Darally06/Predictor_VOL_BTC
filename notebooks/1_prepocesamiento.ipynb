{
 "cells": [
  {
   "cell_type": "markdown",
   "id": "43697a93",
   "metadata": {},
   "source": [
    "# **Preprocesamiento de datos**"
   ]
  },
  {
   "cell_type": "markdown",
   "id": "8270534d",
   "metadata": {},
   "source": [
    "Manejo de datos para la creación de variables relacionadas a la Volatilidad del BTC, a partir del precio de cierre."
   ]
  },
  {
   "cell_type": "code",
   "execution_count": null,
   "id": "793a8d0f",
   "metadata": {},
   "outputs": [],
   "source": [
    "#Imports \n",
    "import pandas as pd\n",
    "import numpy as np"
   ]
  },
  {
   "cell_type": "code",
   "execution_count": null,
   "id": "6265df1e",
   "metadata": {},
   "outputs": [
    {
     "name": "stdout",
     "output_type": "stream",
     "text": [
      "<class 'pandas.core.frame.DataFrame'>\n",
      "RangeIndex: 2594 entries, 0 to 2593\n",
      "Data columns (total 2 columns):\n",
      " #   Column  Non-Null Count  Dtype         \n",
      "---  ------  --------------  -----         \n",
      " 0   Date    2594 non-null   datetime64[ns]\n",
      " 1   Close   2594 non-null   float64       \n",
      "dtypes: datetime64[ns](1), float64(1)\n",
      "memory usage: 40.7 KB\n"
     ]
    }
   ],
   "source": [
    "# Ventanas de tiempo \n",
    "ventanas = [7,14,21,28]\n",
    "\n",
    "# Lectura de archivo y selección de variables de interés\n",
    "btc = pd.read_csv(r\"C:\\Users\\Hp\\MACHINE\\MINI_PRY_2\\data\\btc_1d_data_2018_to_2025.csv\")\n",
    "btc['Date'] = btc['Open time']\n",
    "btc = btc[['Date', 'Close']].dropna().reset_index(drop=True)\n",
    "btc['Date'] = pd.to_datetime(btc['Date'], errors='coerce', format='%Y-%m-%d')\n",
    "btc.info()"
   ]
  },
  {
   "cell_type": "markdown",
   "id": "9d53174b",
   "metadata": {},
   "source": [
    "## _Cálculo de retornos logarítmicos_\n",
    "\n",
    "Un retorno logarítmico $r_t$ se define como:\n",
    "$$\n",
    "r_t = ln(\\frac{P_t}{P_{t-1}})\n",
    "$$\n",
    "donde $P_t$ es el precio de cierre en el día $t$."
   ]
  },
  {
   "cell_type": "code",
   "execution_count": null,
   "id": "239beaa5",
   "metadata": {},
   "outputs": [],
   "source": [
    "#   Calcular retornos logarítmicos\n",
    "btc[\"log_return\"] = np.log(btc[\"Close\"] / btc[\"Close\"].shift(1))"
   ]
  },
  {
   "cell_type": "markdown",
   "id": "7a536fe7",
   "metadata": {},
   "source": [
    "## _Cálculo de la volatilidad histórica (rolling std)_\n",
    "\n",
    "La volatilidad es una medida de dispersión de los rendimientos de un activo financiero. \n",
    "\n",
    "Para una ventana de tamaño $n$:\n",
    "$$\n",
    "\\sigma_t = \\sqrt{\\frac{1}{n} \\sum_{i=1}^{n} (r_{t-i}-\\hat{r})^2}\n",
    "$$\n",
    "\n",
    "donde $r_t$ es el retorno logarítmico, $\\hat{r}$ el promedio de retornos en una ventana y $\\sigma_t$ es el promedio de retornos en la ventana. "
   ]
  },
  {
   "cell_type": "code",
   "execution_count": null,
   "id": "672e0a30",
   "metadata": {},
   "outputs": [],
   "source": [
    "#   Calcular volatilidades históricas (features)\n",
    "for v in ventanas:\n",
    "    btc[f\"Volatil_D{v}\"] = btc[\"log_return\"].rolling(window=v).std() * np.sqrt(365)"
   ]
  },
  {
   "cell_type": "markdown",
   "id": "194a5c07",
   "metadata": {},
   "source": [
    "> Para facilitar la comparación entre activos, para cada ventana se anualizaron los valores multiplicándolos por la raíz cuadrada de 365 (días en un año)."
   ]
  },
  {
   "cell_type": "markdown",
   "id": "f0f5b3f8",
   "metadata": {},
   "source": [
    "* Valores faltantes"
   ]
  },
  {
   "cell_type": "markdown",
   "id": "46a82da6",
   "metadata": {},
   "source": [
    "> Los valores faltantes resultan de la imposibilidad de calcular registros históricos para los primeros registros"
   ]
  },
  {
   "cell_type": "code",
   "execution_count": 9,
   "id": "84a9a9d9",
   "metadata": {},
   "outputs": [
    {
     "data": {
      "text/plain": [
       "Volatil_D28    28\n",
       "Volatil_D21    21\n",
       "Volatil_D14    14\n",
       "Volatil_D7      7\n",
       "log_return      1\n",
       "dtype: int64"
      ]
     },
     "execution_count": 9,
     "metadata": {},
     "output_type": "execute_result"
    }
   ],
   "source": [
    "btc.isna().sum().sort_values(ascending=False).head()"
   ]
  },
  {
   "cell_type": "code",
   "execution_count": 6,
   "id": "5d2d947c",
   "metadata": {},
   "outputs": [
    {
     "name": "stdout",
     "output_type": "stream",
     "text": [
      "Filas eliminadas por contener al menos un NA: 28\n",
      "Representa un 1.079 % del total de datos\n"
     ]
    }
   ],
   "source": [
    "# Eliminar filas con NA\n",
    "na_filas = btc.isna().any(axis=1).sum()\n",
    "print(f\"Filas eliminadas por contener al menos un NA: {na_filas}\")\n",
    "print(f\"Representa un {round((na_filas/len(btc))*100, 3)} % del total de datos\")\n",
    "btc_clean = btc.dropna()"
   ]
  },
  {
   "cell_type": "markdown",
   "id": "48200923",
   "metadata": {},
   "source": [
    "```{note}\n",
    "De esta manera se obtiene un dataset de 2566 registros resumidos en 7 variables."
   ]
  },
  {
   "cell_type": "code",
   "execution_count": 7,
   "id": "d4992067",
   "metadata": {},
   "outputs": [
    {
     "name": "stdout",
     "output_type": "stream",
     "text": [
      "<class 'pandas.core.frame.DataFrame'>\n",
      "Index: 2566 entries, 28 to 2593\n",
      "Data columns (total 7 columns):\n",
      " #   Column       Non-Null Count  Dtype         \n",
      "---  ------       --------------  -----         \n",
      " 0   Date         2566 non-null   datetime64[ns]\n",
      " 1   Close        2566 non-null   float64       \n",
      " 2   log_return   2566 non-null   float64       \n",
      " 3   Volatil_D7   2566 non-null   float64       \n",
      " 4   Volatil_D14  2566 non-null   float64       \n",
      " 5   Volatil_D21  2566 non-null   float64       \n",
      " 6   Volatil_D28  2566 non-null   float64       \n",
      "dtypes: datetime64[ns](1), float64(6)\n",
      "memory usage: 160.4 KB\n"
     ]
    }
   ],
   "source": [
    "btc_clean.info()"
   ]
  },
  {
   "cell_type": "code",
   "execution_count": 8,
   "id": "45ea16e5",
   "metadata": {},
   "outputs": [],
   "source": [
    "btc_clean.to_csv(\"BTC_all.csv\", index=False)"
   ]
  }
 ],
 "metadata": {
  "kernelspec": {
   "display_name": "MACHINE",
   "language": "python",
   "name": "python3"
  },
  "language_info": {
   "codemirror_mode": {
    "name": "ipython",
    "version": 3
   },
   "file_extension": ".py",
   "mimetype": "text/x-python",
   "name": "python",
   "nbconvert_exporter": "python",
   "pygments_lexer": "ipython3",
   "version": "3.10.18"
  }
 },
 "nbformat": 4,
 "nbformat_minor": 5
}
